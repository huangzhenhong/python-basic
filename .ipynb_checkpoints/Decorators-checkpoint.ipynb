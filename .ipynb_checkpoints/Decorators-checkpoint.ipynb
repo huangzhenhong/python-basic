{
 "cells": [
  {
   "cell_type": "code",
   "execution_count": 3,
   "metadata": {
    "collapsed": true
   },
   "outputs": [],
   "source": [
    "s = 'This is a global'\n",
    "\n",
    "def func():\n",
    "    s = 'this is a local variable'\n",
    "    print(locals())"
   ]
  },
  {
   "cell_type": "code",
   "execution_count": 4,
   "metadata": {},
   "outputs": [
    {
     "name": "stdout",
     "output_type": "stream",
     "text": [
      "{'s': 'this is a local variable'}\n"
     ]
    }
   ],
   "source": [
    "func()"
   ]
  },
  {
   "cell_type": "code",
   "execution_count": 5,
   "metadata": {},
   "outputs": [
    {
     "data": {
      "text/plain": [
       "'Hello Jose'"
      ]
     },
     "execution_count": 5,
     "metadata": {},
     "output_type": "execute_result"
    }
   ],
   "source": [
    "def hello(name=\"Jose\"):\n",
    "    return 'Hello ' + name\n",
    "\n",
    "hello()"
   ]
  },
  {
   "cell_type": "code",
   "execution_count": 6,
   "metadata": {
    "collapsed": true
   },
   "outputs": [],
   "source": [
    "greet = hello"
   ]
  },
  {
   "cell_type": "code",
   "execution_count": 7,
   "metadata": {},
   "outputs": [
    {
     "data": {
      "text/plain": [
       "<function __main__.hello>"
      ]
     },
     "execution_count": 7,
     "metadata": {},
     "output_type": "execute_result"
    }
   ],
   "source": [
    "greet"
   ]
  },
  {
   "cell_type": "code",
   "execution_count": 8,
   "metadata": {},
   "outputs": [
    {
     "data": {
      "text/plain": [
       "'Hello Jose'"
      ]
     },
     "execution_count": 8,
     "metadata": {},
     "output_type": "execute_result"
    }
   ],
   "source": [
    "greet()"
   ]
  },
  {
   "cell_type": "code",
   "execution_count": 9,
   "metadata": {
    "collapsed": true
   },
   "outputs": [],
   "source": [
    "del hello"
   ]
  },
  {
   "cell_type": "code",
   "execution_count": 10,
   "metadata": {},
   "outputs": [
    {
     "ename": "NameError",
     "evalue": "name 'hello' is not defined",
     "output_type": "error",
     "traceback": [
      "\u001b[1;31m---------------------------------------------------------------------------\u001b[0m",
      "\u001b[1;31mNameError\u001b[0m                                 Traceback (most recent call last)",
      "\u001b[1;32m<ipython-input-10-a803225a2f97>\u001b[0m in \u001b[0;36m<module>\u001b[1;34m()\u001b[0m\n\u001b[1;32m----> 1\u001b[1;33m \u001b[0mhello\u001b[0m\u001b[1;33m(\u001b[0m\u001b[1;33m)\u001b[0m\u001b[1;33m\u001b[0m\u001b[0m\n\u001b[0m",
      "\u001b[1;31mNameError\u001b[0m: name 'hello' is not defined"
     ]
    }
   ],
   "source": [
    "hello()"
   ]
  },
  {
   "cell_type": "code",
   "execution_count": 11,
   "metadata": {},
   "outputs": [
    {
     "data": {
      "text/plain": [
       "'Hello Jose'"
      ]
     },
     "execution_count": 11,
     "metadata": {},
     "output_type": "execute_result"
    }
   ],
   "source": [
    "greet()"
   ]
  },
  {
   "cell_type": "code",
   "execution_count": 12,
   "metadata": {},
   "outputs": [
    {
     "data": {
      "text/plain": [
       "{'In': ['',\n",
       "  \"s = 'This is a global'\\n\\ndef func():\\n    print(locals())\",\n",
       "  'func()',\n",
       "  \"s = 'This is a global'\\n\\ndef func():\\n    s = 'this is a local variable'\\n    print(locals())\",\n",
       "  'func()',\n",
       "  'def hello(name=\"Jose\"):\\n    return \\'Hello \\' + name\\n\\nhello()',\n",
       "  'greet = hello',\n",
       "  'greet',\n",
       "  'greet()',\n",
       "  'del hello',\n",
       "  'hello()',\n",
       "  'greet()',\n",
       "  'globals()'],\n",
       " 'Out': {5: 'Hello Jose',\n",
       "  7: <function __main__.hello>,\n",
       "  8: 'Hello Jose',\n",
       "  11: 'Hello Jose'},\n",
       " '_': 'Hello Jose',\n",
       " '_11': 'Hello Jose',\n",
       " '_5': 'Hello Jose',\n",
       " '_7': <function __main__.hello>,\n",
       " '_8': 'Hello Jose',\n",
       " '__': 'Hello Jose',\n",
       " '___': <function __main__.hello>,\n",
       " '__builtin__': <module 'builtins' (built-in)>,\n",
       " '__builtins__': <module 'builtins' (built-in)>,\n",
       " '__doc__': 'Automatically created module for IPython interactive environment',\n",
       " '__loader__': None,\n",
       " '__name__': '__main__',\n",
       " '__package__': None,\n",
       " '__spec__': None,\n",
       " '_dh': ['C:\\\\Users\\\\DDHUAN\\\\courses\\\\python'],\n",
       " '_i': 'greet()',\n",
       " '_i1': \"s = 'This is a global'\\n\\ndef func():\\n    print(locals())\",\n",
       " '_i10': 'hello()',\n",
       " '_i11': 'greet()',\n",
       " '_i12': 'globals()',\n",
       " '_i2': 'func()',\n",
       " '_i3': \"s = 'This is a global'\\n\\ndef func():\\n    s = 'this is a local variable'\\n    print(locals())\",\n",
       " '_i4': 'func()',\n",
       " '_i5': 'def hello(name=\"Jose\"):\\n    return \\'Hello \\' + name\\n\\nhello()',\n",
       " '_i6': 'greet = hello',\n",
       " '_i7': 'greet',\n",
       " '_i8': 'greet()',\n",
       " '_i9': 'del hello',\n",
       " '_ih': ['',\n",
       "  \"s = 'This is a global'\\n\\ndef func():\\n    print(locals())\",\n",
       "  'func()',\n",
       "  \"s = 'This is a global'\\n\\ndef func():\\n    s = 'this is a local variable'\\n    print(locals())\",\n",
       "  'func()',\n",
       "  'def hello(name=\"Jose\"):\\n    return \\'Hello \\' + name\\n\\nhello()',\n",
       "  'greet = hello',\n",
       "  'greet',\n",
       "  'greet()',\n",
       "  'del hello',\n",
       "  'hello()',\n",
       "  'greet()',\n",
       "  'globals()'],\n",
       " '_ii': 'hello()',\n",
       " '_iii': 'del hello',\n",
       " '_oh': {5: 'Hello Jose',\n",
       "  7: <function __main__.hello>,\n",
       "  8: 'Hello Jose',\n",
       "  11: 'Hello Jose'},\n",
       " '_sh': <module 'IPython.core.shadowns' from 'C:\\\\ProgramData\\\\Anaconda3\\\\lib\\\\site-packages\\\\IPython\\\\core\\\\shadowns.py'>,\n",
       " 'exit': <IPython.core.autocall.ZMQExitAutocall at 0x4ecb048>,\n",
       " 'func': <function __main__.func>,\n",
       " 'get_ipython': <bound method InteractiveShell.get_ipython of <ipykernel.zmqshell.ZMQInteractiveShell object at 0x0000000004E5BAC8>>,\n",
       " 'greet': <function __main__.hello>,\n",
       " 'quit': <IPython.core.autocall.ZMQExitAutocall at 0x4ecb048>,\n",
       " 's': 'This is a global'}"
      ]
     },
     "execution_count": 12,
     "metadata": {},
     "output_type": "execute_result"
    }
   ],
   "source": [
    "globals()"
   ]
  },
  {
   "cell_type": "code",
   "execution_count": null,
   "metadata": {
    "collapsed": true
   },
   "outputs": [],
   "source": []
  }
 ],
 "metadata": {
  "kernelspec": {
   "display_name": "Python 3",
   "language": "python",
   "name": "python3"
  },
  "language_info": {
   "codemirror_mode": {
    "name": "ipython",
    "version": 3
   },
   "file_extension": ".py",
   "mimetype": "text/x-python",
   "name": "python",
   "nbconvert_exporter": "python",
   "pygments_lexer": "ipython3",
   "version": "3.6.1"
  }
 },
 "nbformat": 4,
 "nbformat_minor": 2
}
