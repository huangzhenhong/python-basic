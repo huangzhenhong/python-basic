{
 "cells": [
  {
   "cell_type": "code",
   "execution_count": 2,
   "metadata": {
    "collapsed": true
   },
   "outputs": [],
   "source": [
    "def vol(rad):\n",
    "    return 4/3 * (3.1415926) * rad**3"
   ]
  },
  {
   "cell_type": "code",
   "execution_count": 3,
   "metadata": {},
   "outputs": [
    {
     "data": {
      "text/plain": [
       "523.5987666666666"
      ]
     },
     "execution_count": 3,
     "metadata": {},
     "output_type": "execute_result"
    }
   ],
   "source": [
    "vol(5)"
   ]
  },
  {
   "cell_type": "code",
   "execution_count": 2,
   "metadata": {
    "collapsed": true
   },
   "outputs": [],
   "source": [
    "def ran_check(num, low, high):\n",
    "    if(num >= low and num <= high):\n",
    "        print('This number is in the range')\n",
    "    else: \n",
    "        print('This number is not in the range')"
   ]
  },
  {
   "cell_type": "code",
   "execution_count": 4,
   "metadata": {},
   "outputs": [
    {
     "name": "stdout",
     "output_type": "stream",
     "text": [
      "This number is not in the range\n"
     ]
    }
   ],
   "source": [
    "ran_check(21, 1, 5)"
   ]
  },
  {
   "cell_type": "markdown",
   "metadata": {},
   "source": [
    "def ran_bool(num, low, high):\n",
    "    isInRange = False\n",
    "    if(num >= low and num <= high):\n",
    "        isInRange = True\n",
    "    return isInRange"
   ]
  },
  {
   "cell_type": "code",
   "execution_count": 51,
   "metadata": {},
   "outputs": [
    {
     "data": {
      "text/plain": [
       "False"
      ]
     },
     "execution_count": 51,
     "metadata": {},
     "output_type": "execute_result"
    }
   ],
   "source": [
    "def ran_bool(num, low, high):\n",
    "    return num in range(low,high)\n",
    "ran_check(21, 1, 5)"
   ]
  },
  {
   "cell_type": "code",
   "execution_count": 10,
   "metadata": {},
   "outputs": [
    {
     "data": {
      "text/plain": [
       "True"
      ]
     },
     "execution_count": 10,
     "metadata": {},
     "output_type": "execute_result"
    }
   ],
   "source": [
    "ran_check(2, 1, 5)"
   ]
  },
  {
   "cell_type": "code",
   "execution_count": 15,
   "metadata": {},
   "outputs": [
    {
     "name": "stdout",
     "output_type": "stream",
     "text": [
      "No. of upper case character:  4\n",
      "No. of upper case character:  33\n"
     ]
    }
   ],
   "source": [
    "str = 'Hello Mr.Rogers, how are you this fine Tuesday?'\n",
    "def up_low(s):\n",
    "    numberOfLow = 0\n",
    "    numberOfUpper = 0\n",
    "    listOfUpper = [s for s in str if s.isupper()]\n",
    "    listOfLow = [s for s in str if s.islower()]\n",
    "    print('No. of upper case character: ', len(listOfUpper))\n",
    "    print('No. of upper case character: ', len(listOfLow))\n",
    "\n",
    "up_low(str)"
   ]
  },
  {
   "cell_type": "code",
   "execution_count": 20,
   "metadata": {},
   "outputs": [
    {
     "data": {
      "text/plain": [
       "[1, 2, 3, 4, 5]"
      ]
     },
     "execution_count": 20,
     "metadata": {},
     "output_type": "execute_result"
    }
   ],
   "source": [
    "sampleList = [1,1,1,2,2,3,3,3,3,4,5]\n",
    "\n",
    "def unique_list(l):\n",
    "    uniqueSet = set(l)\n",
    "    newList = [s for s in uniqueSet]\n",
    "    return newList\n",
    "\n",
    "unique_list(sampleList)"
   ]
  },
  {
   "cell_type": "code",
   "execution_count": 54,
   "metadata": {},
   "outputs": [
    {
     "name": "stdout",
     "output_type": "stream",
     "text": [
      "-24\n"
     ]
    }
   ],
   "source": [
    "sList = [1,2,3,-4]\n",
    "def multiply(numbers):\n",
    "    multiTotal = numbers[0]\n",
    "    for s in numbers[1:]:\n",
    "        multiTotal *= s\n",
    "    return multiTotal\n",
    "\n",
    "print(multiply(sList))"
   ]
  },
  {
   "cell_type": "code",
   "execution_count": 25,
   "metadata": {},
   "outputs": [
    {
     "data": {
      "text/plain": [
       "False"
      ]
     },
     "execution_count": 25,
     "metadata": {},
     "output_type": "execute_result"
    }
   ],
   "source": [
    "def palindrome(s):\n",
    "    reversedStr = s[::-1]\n",
    "    if s==reversedStr: \n",
    "        return True\n",
    "    else: \n",
    "        return False\n",
    "palindrome(\"01\")"
   ]
  },
  {
   "cell_type": "code",
   "execution_count": 50,
   "metadata": {},
   "outputs": [
    {
     "data": {
      "text/plain": [
       "True"
      ]
     },
     "execution_count": 50,
     "metadata": {},
     "output_type": "execute_result"
    }
   ],
   "source": [
    "import string\n",
    "\n",
    "def ispangram(str1, alphabet=string.ascii_lowercase):\n",
    "    newlist =[s for s in set(str1.lower()) if s != ' ']\n",
    "    \n",
    "    for s in alphabet:\n",
    "        if s not in newlist:\n",
    "            return False;\n",
    "    return True\n",
    "\n",
    "ispangram(\"The quick brown fox jupms over the lazy dog\")"
   ]
  },
  {
   "cell_type": "code",
   "execution_count": null,
   "metadata": {},
   "outputs": [],
   "source": []
  },
  {
   "cell_type": "code",
   "execution_count": null,
   "metadata": {
    "collapsed": true
   },
   "outputs": [],
   "source": []
  }
 ],
 "metadata": {
  "kernelspec": {
   "display_name": "Python 3",
   "language": "python",
   "name": "python3"
  },
  "language_info": {
   "codemirror_mode": {
    "name": "ipython",
    "version": 3
   },
   "file_extension": ".py",
   "mimetype": "text/x-python",
   "name": "python",
   "nbconvert_exporter": "python",
   "pygments_lexer": "ipython3",
   "version": "3.6.1"
  }
 },
 "nbformat": 4,
 "nbformat_minor": 2
}
