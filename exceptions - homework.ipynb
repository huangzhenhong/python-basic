{
 "cells": [
  {
   "cell_type": "code",
   "execution_count": 1,
   "metadata": {},
   "outputs": [
    {
     "name": "stdout",
     "output_type": "stream",
     "text": [
      "There is something wrong with the calculation\n"
     ]
    }
   ],
   "source": [
    "try:\n",
    "    for i in ['a','b','c']:\n",
    "        print(i**2)\n",
    "except:\n",
    "    print('There is something wrong with the calculation')"
   ]
  },
  {
   "cell_type": "code",
   "execution_count": 10,
   "metadata": {},
   "outputs": [
    {
     "name": "stdout",
     "output_type": "stream",
     "text": [
      "Please input a integer: a\n",
      "looks like you didn't input a integer, please try again\n",
      "Please input a integer: b\n",
      "looks like you didn't input a integer, please try again\n",
      "Please input a integer: \n",
      "looks like you didn't input a integer, please try again\n",
      "Please input a integer: c\n",
      "looks like you didn't input a integer, please try again\n",
      "Please input a integer: s\n",
      "looks like you didn't input a integer, please try again\n",
      "Please input a integer: 5\n",
      "You entered an integer\n",
      "you entered wrong integers for  5  times\n"
     ]
    }
   ],
   "source": [
    "i = 0\n",
    "while True:\n",
    "    try:\n",
    "        val = int(input('Please input a integer: '))\n",
    "    except:\n",
    "        print(\"looks like you didn't input a integer, please try again\")\n",
    "        i += 1\n",
    "        continue\n",
    "    else:\n",
    "        print('You entered an integer')\n",
    "        break\n",
    "    \n",
    "print('you entered wrong integers for ',i,' times')"
   ]
  },
  {
   "cell_type": "code",
   "execution_count": null,
   "metadata": {
    "collapsed": true
   },
   "outputs": [],
   "source": []
  }
 ],
 "metadata": {
  "kernelspec": {
   "display_name": "Python 3",
   "language": "python",
   "name": "python3"
  },
  "language_info": {
   "codemirror_mode": {
    "name": "ipython",
    "version": 3
   },
   "file_extension": ".py",
   "mimetype": "text/x-python",
   "name": "python",
   "nbconvert_exporter": "python",
   "pygments_lexer": "ipython3",
   "version": "3.6.1"
  }
 },
 "nbformat": 4,
 "nbformat_minor": 2
}
