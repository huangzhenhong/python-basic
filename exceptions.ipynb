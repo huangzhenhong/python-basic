{
 "cells": [
  {
   "cell_type": "code",
   "execution_count": 1,
   "metadata": {},
   "outputs": [
    {
     "ename": "ZeroDivisionError",
     "evalue": "division by zero",
     "output_type": "error",
     "traceback": [
      "\u001b[1;31m---------------------------------------------------------------------------\u001b[0m",
      "\u001b[1;31mZeroDivisionError\u001b[0m                         Traceback (most recent call last)",
      "\u001b[1;32m<ipython-input-1-897f73788bb0>\u001b[0m in \u001b[0;36m<module>\u001b[1;34m()\u001b[0m\n\u001b[1;32m----> 1\u001b[1;33m \u001b[1;36m2\u001b[0m\u001b[1;33m/\u001b[0m\u001b[1;36m0\u001b[0m\u001b[1;33m\u001b[0m\u001b[0m\n\u001b[0m",
      "\u001b[1;31mZeroDivisionError\u001b[0m: division by zero"
     ]
    }
   ],
   "source": [
    "2/0"
   ]
  },
  {
   "cell_type": "code",
   "execution_count": 3,
   "metadata": {},
   "outputs": [
    {
     "name": "stdout",
     "output_type": "stream",
     "text": [
      "There is a error\n"
     ]
    }
   ],
   "source": [
    "try:\n",
    "    2/0\n",
    "except:\n",
    "    print('There is a error')"
   ]
  },
  {
   "cell_type": "code",
   "execution_count": 5,
   "metadata": {},
   "outputs": [
    {
     "name": "stdout",
     "output_type": "stream",
     "text": [
      "There is a type error\n",
      "Finally this was executed\n"
     ]
    }
   ],
   "source": [
    "try:\n",
    "    2 + 's'\n",
    "except:\n",
    "    print('There is a type error')\n",
    "finally:\n",
    "    print('Finally this was executed')"
   ]
  },
  {
   "cell_type": "code",
   "execution_count": 10,
   "metadata": {},
   "outputs": [
    {
     "name": "stdout",
     "output_type": "stream",
     "text": [
      "Error in writing to the file\n",
      "This is the final step\n"
     ]
    }
   ],
   "source": [
    "try:\n",
    "    f = open('textfile1.txt','r')\n",
    "    f.write('this is a test')\n",
    "except:\n",
    "    print('Error in writing to the file')\n",
    "else:\n",
    "    print('File write was a sucess')\n",
    "finally: \n",
    "    print('This is the final step')"
   ]
  },
  {
   "cell_type": "code",
   "execution_count": 14,
   "metadata": {
    "collapsed": true
   },
   "outputs": [],
   "source": [
    "def askint():\n",
    "    try:\n",
    "        val = int(input(\"please input a integer: \"))\n",
    "    except:\n",
    "        print(\"looks like you didn't enter an integer\")\n",
    "        val = int(input(\"try again: \"))\n",
    "    finally:\n",
    "        print(\"Finally block executed\")"
   ]
  },
  {
   "cell_type": "code",
   "execution_count": 16,
   "metadata": {},
   "outputs": [
    {
     "name": "stdout",
     "output_type": "stream",
     "text": [
      "please input a integer: 3\n",
      "Finally block executed\n"
     ]
    }
   ],
   "source": [
    "askint()"
   ]
  },
  {
   "cell_type": "code",
   "execution_count": 17,
   "metadata": {
    "collapsed": true
   },
   "outputs": [],
   "source": [
    "def askint():\n",
    "    while True:\n",
    "        try:\n",
    "            val = int(input('please input a integer: '))\n",
    "        except:\n",
    "            print(\"looks like you didn't enter an integer\")\n",
    "            continue\n",
    "        else:\n",
    "            print('Correct, that is an integer')\n",
    "            break\n",
    "        finally:\n",
    "            print('Finally block executed')"
   ]
  },
  {
   "cell_type": "code",
   "execution_count": 18,
   "metadata": {},
   "outputs": [
    {
     "name": "stdout",
     "output_type": "stream",
     "text": [
      "please input a integer: five\n",
      "looks like you didn't enter an integer\n",
      "Finally block executed\n",
      "please input a integer: five\n",
      "looks like you didn't enter an integer\n",
      "Finally block executed\n",
      "please input a integer: five\n",
      "looks like you didn't enter an integer\n",
      "Finally block executed\n",
      "please input a integer: 5\n",
      "Correct, that is an integer\n",
      "Finally block executed\n"
     ]
    }
   ],
   "source": [
    "askint()"
   ]
  },
  {
   "cell_type": "code",
   "execution_count": null,
   "metadata": {
    "collapsed": true
   },
   "outputs": [],
   "source": []
  }
 ],
 "metadata": {
  "kernelspec": {
   "display_name": "Python 3",
   "language": "python",
   "name": "python3"
  },
  "language_info": {
   "codemirror_mode": {
    "name": "ipython",
    "version": 3
   },
   "file_extension": ".py",
   "mimetype": "text/x-python",
   "name": "python",
   "nbconvert_exporter": "python",
   "pygments_lexer": "ipython3",
   "version": "3.6.1"
  }
 },
 "nbformat": 4,
 "nbformat_minor": 2
}
